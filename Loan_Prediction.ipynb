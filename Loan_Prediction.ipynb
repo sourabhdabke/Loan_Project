{
 "cells": [
  {
   "cell_type": "markdown",
   "id": "524b6be7",
   "metadata": {},
   "source": [
    "# Problem Statement"
   ]
  },
  {
   "cell_type": "markdown",
   "id": "72d3ff4f",
   "metadata": {},
   "source": [
    "A Company wants to automate the loan eligibility process based on customer details provided while filling out the online application form.\n",
    "\n",
    "The details filled by the customer are Gender, Marital Status, Education, Number of Dependents, Income of self and co-applicant, Required Loan Amount, Required Loan Term, Credit History, and others.\n",
    "\n",
    "The requirements are as follows:\n",
    "\n",
    "1. Check the eligibility of the Customer given the inputs described above.\n",
    "2. If the customer is not eligible for the input required amount and duration:\n",
    "\n",
    "        A. What can be the amount for the given duration.\n",
    "        B. If the duration is less than equal to 20 years, is the customer eligible for the required amount for some longer duration? What is that duration?"
   ]
  },
  {
   "cell_type": "markdown",
   "id": "8fd0763a",
   "metadata": {},
   "source": [
    "# Part 1"
   ]
  },
  {
   "cell_type": "markdown",
   "id": "a6fa0b60",
   "metadata": {},
   "source": [
    "### Import Dataset"
   ]
  },
  {
   "cell_type": "code",
   "execution_count": 1,
   "id": "c92d9984",
   "metadata": {},
   "outputs": [],
   "source": [
    "import pandas as pd\n",
    "A= pd.read_csv('/Users/sourabhdabke/Documents/ETL_Hive/Python/Week_19_Proj3/Sun_Proj4/training_set.csv')\n",
    "from warnings import filterwarnings\n",
    "filterwarnings('ignore')"
   ]
  },
  {
   "cell_type": "code",
   "execution_count": 2,
   "id": "b577b1c4",
   "metadata": {},
   "outputs": [
    {
     "data": {
      "text/html": [
       "<div>\n",
       "<style scoped>\n",
       "    .dataframe tbody tr th:only-of-type {\n",
       "        vertical-align: middle;\n",
       "    }\n",
       "\n",
       "    .dataframe tbody tr th {\n",
       "        vertical-align: top;\n",
       "    }\n",
       "\n",
       "    .dataframe thead th {\n",
       "        text-align: right;\n",
       "    }\n",
       "</style>\n",
       "<table border=\"1\" class=\"dataframe\">\n",
       "  <thead>\n",
       "    <tr style=\"text-align: right;\">\n",
       "      <th></th>\n",
       "      <th>Loan_ID</th>\n",
       "      <th>Gender</th>\n",
       "      <th>Married</th>\n",
       "      <th>Dependents</th>\n",
       "      <th>Education</th>\n",
       "      <th>Self_Employed</th>\n",
       "      <th>ApplicantIncome</th>\n",
       "      <th>CoapplicantIncome</th>\n",
       "      <th>LoanAmount</th>\n",
       "      <th>Loan_Amount_Term</th>\n",
       "      <th>Credit_History</th>\n",
       "      <th>Property_Area</th>\n",
       "      <th>Loan_Status</th>\n",
       "    </tr>\n",
       "  </thead>\n",
       "  <tbody>\n",
       "    <tr>\n",
       "      <th>0</th>\n",
       "      <td>LP001002</td>\n",
       "      <td>Male</td>\n",
       "      <td>No</td>\n",
       "      <td>0</td>\n",
       "      <td>Graduate</td>\n",
       "      <td>No</td>\n",
       "      <td>5849.0</td>\n",
       "      <td>0.0</td>\n",
       "      <td>NaN</td>\n",
       "      <td>360.0</td>\n",
       "      <td>1.0</td>\n",
       "      <td>Urban</td>\n",
       "      <td>Y</td>\n",
       "    </tr>\n",
       "    <tr>\n",
       "      <th>1</th>\n",
       "      <td>LP001003</td>\n",
       "      <td>Male</td>\n",
       "      <td>Yes</td>\n",
       "      <td>1</td>\n",
       "      <td>Graduate</td>\n",
       "      <td>No</td>\n",
       "      <td>NaN</td>\n",
       "      <td>1508.0</td>\n",
       "      <td>128.0</td>\n",
       "      <td>360.0</td>\n",
       "      <td>1.0</td>\n",
       "      <td>Rural</td>\n",
       "      <td>N</td>\n",
       "    </tr>\n",
       "  </tbody>\n",
       "</table>\n",
       "</div>"
      ],
      "text/plain": [
       "    Loan_ID Gender Married Dependents Education Self_Employed  \\\n",
       "0  LP001002   Male      No          0  Graduate            No   \n",
       "1  LP001003   Male     Yes          1  Graduate            No   \n",
       "\n",
       "   ApplicantIncome  CoapplicantIncome  LoanAmount  Loan_Amount_Term  \\\n",
       "0           5849.0                0.0         NaN             360.0   \n",
       "1              NaN             1508.0       128.0             360.0   \n",
       "\n",
       "   Credit_History Property_Area Loan_Status  \n",
       "0             1.0         Urban           Y  \n",
       "1             1.0         Rural           N  "
      ]
     },
     "execution_count": 2,
     "metadata": {},
     "output_type": "execute_result"
    }
   ],
   "source": [
    "A.head(2)"
   ]
  },
  {
   "cell_type": "code",
   "execution_count": 3,
   "id": "2d04164e",
   "metadata": {},
   "outputs": [
    {
     "data": {
      "text/plain": [
       "(614, 13)"
      ]
     },
     "execution_count": 3,
     "metadata": {},
     "output_type": "execute_result"
    }
   ],
   "source": [
    "A.shape"
   ]
  },
  {
   "cell_type": "code",
   "execution_count": 4,
   "id": "b19f119b",
   "metadata": {},
   "outputs": [],
   "source": [
    "A['CoapplicantIncome']=A['CoapplicantIncome'].fillna(0)\n",
    "x = round(A[[\"Credit_History\"]].mean(),0)\n",
    "A[['Credit_History']] = A[['Credit_History']].fillna(x)"
   ]
  },
  {
   "cell_type": "code",
   "execution_count": 5,
   "id": "28ff4306",
   "metadata": {},
   "outputs": [
    {
     "data": {
      "text/plain": [
       "Loan_ID               0\n",
       "Gender               15\n",
       "Married               3\n",
       "Dependents           15\n",
       "Education             1\n",
       "Self_Employed        32\n",
       "ApplicantIncome       2\n",
       "CoapplicantIncome     0\n",
       "LoanAmount           22\n",
       "Loan_Amount_Term     14\n",
       "Credit_History        0\n",
       "Property_Area         0\n",
       "Loan_Status           0\n",
       "dtype: int64"
      ]
     },
     "execution_count": 5,
     "metadata": {},
     "output_type": "execute_result"
    }
   ],
   "source": [
    "A.isna().sum()"
   ]
  },
  {
   "cell_type": "markdown",
   "id": "9598c87b",
   "metadata": {},
   "source": [
    "# Missing Data Treatment"
   ]
  },
  {
   "cell_type": "code",
   "execution_count": 6,
   "id": "89aa83cc",
   "metadata": {},
   "outputs": [],
   "source": [
    "for i in A.columns:\n",
    "    if A[i].dtypes == 'object':\n",
    "        x = A[i].mode()[0]\n",
    "        A[i] = A[i].fillna(x)\n",
    "    else:\n",
    "        x = A[i].mean()\n",
    "        A[i] = A[i].fillna(x)"
   ]
  },
  {
   "cell_type": "code",
   "execution_count": 7,
   "id": "caabd460",
   "metadata": {},
   "outputs": [],
   "source": [
    "#A.isna().sum()"
   ]
  },
  {
   "cell_type": "code",
   "execution_count": 8,
   "id": "c4af0cbb",
   "metadata": {},
   "outputs": [
    {
     "data": {
      "text/plain": [
       "Loan_ID              614\n",
       "Gender                 2\n",
       "Married                2\n",
       "Dependents             4\n",
       "Education              2\n",
       "Self_Employed          2\n",
       "ApplicantIncome      505\n",
       "CoapplicantIncome    286\n",
       "LoanAmount           204\n",
       "Loan_Amount_Term      11\n",
       "Credit_History         2\n",
       "Property_Area          3\n",
       "Loan_Status            2\n",
       "dtype: int64"
      ]
     },
     "execution_count": 8,
     "metadata": {},
     "output_type": "execute_result"
    }
   ],
   "source": [
    "A.nunique()"
   ]
  },
  {
   "cell_type": "markdown",
   "id": "9c4a5449",
   "metadata": {},
   "source": [
    "# Dividing Data in X and Y"
   ]
  },
  {
   "cell_type": "code",
   "execution_count": 9,
   "id": "7378f5d2",
   "metadata": {},
   "outputs": [],
   "source": [
    "Y = A[['Loan_Status']]\n",
    "X = A.drop(labels=['Loan_Status','Loan_ID'],axis=1)"
   ]
  },
  {
   "cell_type": "code",
   "execution_count": 10,
   "id": "9c98dc7c",
   "metadata": {},
   "outputs": [
    {
     "data": {
      "text/html": [
       "<div>\n",
       "<style scoped>\n",
       "    .dataframe tbody tr th:only-of-type {\n",
       "        vertical-align: middle;\n",
       "    }\n",
       "\n",
       "    .dataframe tbody tr th {\n",
       "        vertical-align: top;\n",
       "    }\n",
       "\n",
       "    .dataframe thead th {\n",
       "        text-align: right;\n",
       "    }\n",
       "</style>\n",
       "<table border=\"1\" class=\"dataframe\">\n",
       "  <thead>\n",
       "    <tr style=\"text-align: right;\">\n",
       "      <th></th>\n",
       "      <th>ApplicantIncome</th>\n",
       "      <th>CoapplicantIncome</th>\n",
       "      <th>LoanAmount</th>\n",
       "      <th>Loan_Amount_Term</th>\n",
       "      <th>Credit_History</th>\n",
       "    </tr>\n",
       "  </thead>\n",
       "  <tbody>\n",
       "    <tr>\n",
       "      <th>ApplicantIncome</th>\n",
       "      <td>1.000000</td>\n",
       "      <td>-0.116166</td>\n",
       "      <td>0.565552</td>\n",
       "      <td>-0.045147</td>\n",
       "      <td>-0.018475</td>\n",
       "    </tr>\n",
       "    <tr>\n",
       "      <th>CoapplicantIncome</th>\n",
       "      <td>-0.116166</td>\n",
       "      <td>1.000000</td>\n",
       "      <td>0.188239</td>\n",
       "      <td>-0.059947</td>\n",
       "      <td>0.010709</td>\n",
       "    </tr>\n",
       "    <tr>\n",
       "      <th>LoanAmount</th>\n",
       "      <td>0.565552</td>\n",
       "      <td>0.188239</td>\n",
       "      <td>1.000000</td>\n",
       "      <td>0.038801</td>\n",
       "      <td>-0.001431</td>\n",
       "    </tr>\n",
       "    <tr>\n",
       "      <th>Loan_Amount_Term</th>\n",
       "      <td>-0.045147</td>\n",
       "      <td>-0.059947</td>\n",
       "      <td>0.038801</td>\n",
       "      <td>1.000000</td>\n",
       "      <td>0.000432</td>\n",
       "    </tr>\n",
       "    <tr>\n",
       "      <th>Credit_History</th>\n",
       "      <td>-0.018475</td>\n",
       "      <td>0.010709</td>\n",
       "      <td>-0.001431</td>\n",
       "      <td>0.000432</td>\n",
       "      <td>1.000000</td>\n",
       "    </tr>\n",
       "  </tbody>\n",
       "</table>\n",
       "</div>"
      ],
      "text/plain": [
       "                   ApplicantIncome  CoapplicantIncome  LoanAmount  \\\n",
       "ApplicantIncome           1.000000          -0.116166    0.565552   \n",
       "CoapplicantIncome        -0.116166           1.000000    0.188239   \n",
       "LoanAmount                0.565552           0.188239    1.000000   \n",
       "Loan_Amount_Term         -0.045147          -0.059947    0.038801   \n",
       "Credit_History           -0.018475           0.010709   -0.001431   \n",
       "\n",
       "                   Loan_Amount_Term  Credit_History  \n",
       "ApplicantIncome           -0.045147       -0.018475  \n",
       "CoapplicantIncome         -0.059947        0.010709  \n",
       "LoanAmount                 0.038801       -0.001431  \n",
       "Loan_Amount_Term           1.000000        0.000432  \n",
       "Credit_History             0.000432        1.000000  "
      ]
     },
     "execution_count": 10,
     "metadata": {},
     "output_type": "execute_result"
    }
   ],
   "source": [
    "X.corr()"
   ]
  },
  {
   "cell_type": "code",
   "execution_count": 11,
   "id": "59159c50",
   "metadata": {},
   "outputs": [],
   "source": [
    "cat = []\n",
    "con = []\n",
    "for i in A.columns:\n",
    "    if A[i].dtypes == 'object':\n",
    "        cat.append(i)\n",
    "    else:\n",
    "        con.append(i)"
   ]
  },
  {
   "cell_type": "markdown",
   "id": "1d5d1a1a",
   "metadata": {},
   "source": [
    "# Outlier Analysis"
   ]
  },
  {
   "cell_type": "code",
   "execution_count": 12,
   "id": "fb3cca0b",
   "metadata": {},
   "outputs": [
    {
     "data": {
      "text/plain": [
       "StandardScaler()"
      ]
     },
     "execution_count": 12,
     "metadata": {},
     "output_type": "execute_result"
    }
   ],
   "source": [
    "from sklearn.preprocessing import StandardScaler\n",
    "ss = StandardScaler()\n",
    "ss.fit(X[con])"
   ]
  },
  {
   "cell_type": "code",
   "execution_count": 13,
   "id": "5fb8befd",
   "metadata": {},
   "outputs": [
    {
     "data": {
      "text/plain": [
       "array(['ApplicantIncome', 'CoapplicantIncome', 'LoanAmount',\n",
       "       'Loan_Amount_Term', 'Credit_History'], dtype=object)"
      ]
     },
     "execution_count": 13,
     "metadata": {},
     "output_type": "execute_result"
    }
   ],
   "source": [
    "ss.feature_names_in_"
   ]
  },
  {
   "cell_type": "code",
   "execution_count": 14,
   "id": "612fafa0",
   "metadata": {},
   "outputs": [],
   "source": [
    "def outlier(df):\n",
    "    outliers = []\n",
    "    for i in df.columns:\n",
    "        outliers.extend(list(df[df[i]>3].index))\n",
    "        outliers.extend(list(df[df[i]<-3].index))\n",
    "    #return outliers\n",
    "    from numpy import unique\n",
    "    return list(unique(outliers))"
   ]
  },
  {
   "cell_type": "code",
   "execution_count": 15,
   "id": "430e8a59",
   "metadata": {},
   "outputs": [],
   "source": [
    "from sklearn.preprocessing import StandardScaler\n",
    "# ss = StandardScaler()\n",
    "Xn = pd.DataFrame(ss.transform(X[con]),columns=con)"
   ]
  },
  {
   "cell_type": "code",
   "execution_count": 16,
   "id": "d2111a7e",
   "metadata": {},
   "outputs": [
    {
     "data": {
      "text/html": [
       "<div>\n",
       "<style scoped>\n",
       "    .dataframe tbody tr th:only-of-type {\n",
       "        vertical-align: middle;\n",
       "    }\n",
       "\n",
       "    .dataframe tbody tr th {\n",
       "        vertical-align: top;\n",
       "    }\n",
       "\n",
       "    .dataframe thead th {\n",
       "        text-align: right;\n",
       "    }\n",
       "</style>\n",
       "<table border=\"1\" class=\"dataframe\">\n",
       "  <thead>\n",
       "    <tr style=\"text-align: right;\">\n",
       "      <th></th>\n",
       "      <th>ApplicantIncome</th>\n",
       "      <th>CoapplicantIncome</th>\n",
       "      <th>LoanAmount</th>\n",
       "      <th>Loan_Amount_Term</th>\n",
       "      <th>Credit_History</th>\n",
       "    </tr>\n",
       "  </thead>\n",
       "  <tbody>\n",
       "    <tr>\n",
       "      <th>0</th>\n",
       "      <td>0.072651</td>\n",
       "      <td>-0.553327</td>\n",
       "      <td>0.000000</td>\n",
       "      <td>0.279851</td>\n",
       "      <td>0.411733</td>\n",
       "    </tr>\n",
       "    <tr>\n",
       "      <th>1</th>\n",
       "      <td>0.000000</td>\n",
       "      <td>-0.037697</td>\n",
       "      <td>-0.219273</td>\n",
       "      <td>0.279851</td>\n",
       "      <td>0.411733</td>\n",
       "    </tr>\n",
       "  </tbody>\n",
       "</table>\n",
       "</div>"
      ],
      "text/plain": [
       "   ApplicantIncome  CoapplicantIncome  LoanAmount  Loan_Amount_Term  \\\n",
       "0         0.072651          -0.553327    0.000000          0.279851   \n",
       "1         0.000000          -0.037697   -0.219273          0.279851   \n",
       "\n",
       "   Credit_History  \n",
       "0        0.411733  \n",
       "1        0.411733  "
      ]
     },
     "execution_count": 16,
     "metadata": {},
     "output_type": "execute_result"
    }
   ],
   "source": [
    "Xn.head(2)"
   ]
  },
  {
   "cell_type": "code",
   "execution_count": 17,
   "id": "434e7730",
   "metadata": {},
   "outputs": [],
   "source": [
    "ol = outlier(Xn)"
   ]
  },
  {
   "cell_type": "code",
   "execution_count": 18,
   "id": "2ec5d4ed",
   "metadata": {},
   "outputs": [
    {
     "data": {
      "text/plain": [
       "37"
      ]
     },
     "execution_count": 18,
     "metadata": {},
     "output_type": "execute_result"
    }
   ],
   "source": [
    "len(ol)"
   ]
  },
  {
   "cell_type": "code",
   "execution_count": 19,
   "id": "ff39b286",
   "metadata": {},
   "outputs": [],
   "source": [
    "X = X.drop(index=ol,axis=0)\n",
    "Y = Y.drop(index=ol,axis=0)"
   ]
  },
  {
   "cell_type": "code",
   "execution_count": 20,
   "id": "d1c40b0e",
   "metadata": {},
   "outputs": [],
   "source": [
    "X.index = range(0,X.shape[0])\n",
    "Y.index = range(0,Y.shape[0])"
   ]
  },
  {
   "cell_type": "markdown",
   "id": "5cd28a33",
   "metadata": {},
   "source": [
    "# Checking and adjusting Skew"
   ]
  },
  {
   "cell_type": "code",
   "execution_count": 21,
   "id": "f2fa2b81",
   "metadata": {},
   "outputs": [
    {
     "data": {
      "text/plain": [
       "ApplicantIncome      2.145688\n",
       "CoapplicantIncome    1.352825\n",
       "LoanAmount           1.113132\n",
       "Loan_Amount_Term    -2.077031\n",
       "Credit_History      -1.976043\n",
       "dtype: float64"
      ]
     },
     "execution_count": 21,
     "metadata": {},
     "output_type": "execute_result"
    }
   ],
   "source": [
    "X.skew()"
   ]
  },
  {
   "cell_type": "code",
   "execution_count": 22,
   "id": "e81b8c57",
   "metadata": {},
   "outputs": [
    {
     "data": {
      "text/plain": [
       "array(['ApplicantIncome', 'CoapplicantIncome', 'LoanAmount',\n",
       "       'Loan_Amount_Term', 'Credit_History'], dtype=object)"
      ]
     },
     "execution_count": 22,
     "metadata": {},
     "output_type": "execute_result"
    }
   ],
   "source": [
    "ss.feature_names_in_"
   ]
  },
  {
   "cell_type": "markdown",
   "id": "ee0bd4f2",
   "metadata": {},
   "source": [
    "# Getting X and Y ready for model creation"
   ]
  },
  {
   "cell_type": "code",
   "execution_count": 23,
   "id": "3ff2c0e8",
   "metadata": {},
   "outputs": [],
   "source": [
    "cat = []\n",
    "con = []\n",
    "for i in X.columns:\n",
    "    if X[i].dtypes == 'object':\n",
    "        cat.append(i)\n",
    "    else:\n",
    "        con.append(i)\n",
    "        \n",
    "X1 = pd.get_dummies(X[cat])\n",
    "X2 = X[con]\n",
    "Xnew = X2.join(X1)"
   ]
  },
  {
   "cell_type": "code",
   "execution_count": 24,
   "id": "3cb927dc",
   "metadata": {},
   "outputs": [
    {
     "data": {
      "text/html": [
       "<div>\n",
       "<style scoped>\n",
       "    .dataframe tbody tr th:only-of-type {\n",
       "        vertical-align: middle;\n",
       "    }\n",
       "\n",
       "    .dataframe tbody tr th {\n",
       "        vertical-align: top;\n",
       "    }\n",
       "\n",
       "    .dataframe thead th {\n",
       "        text-align: right;\n",
       "    }\n",
       "</style>\n",
       "<table border=\"1\" class=\"dataframe\">\n",
       "  <thead>\n",
       "    <tr style=\"text-align: right;\">\n",
       "      <th></th>\n",
       "      <th>ApplicantIncome</th>\n",
       "      <th>CoapplicantIncome</th>\n",
       "      <th>LoanAmount</th>\n",
       "      <th>Loan_Amount_Term</th>\n",
       "      <th>Credit_History</th>\n",
       "      <th>Gender_Female</th>\n",
       "      <th>Gender_Male</th>\n",
       "      <th>Married_No</th>\n",
       "      <th>Married_Yes</th>\n",
       "      <th>Dependents_0</th>\n",
       "      <th>Dependents_1</th>\n",
       "      <th>Dependents_2</th>\n",
       "      <th>Dependents_3+</th>\n",
       "      <th>Education_Graduate</th>\n",
       "      <th>Education_Not Graduate</th>\n",
       "      <th>Self_Employed_No</th>\n",
       "      <th>Self_Employed_Yes</th>\n",
       "      <th>Property_Area_Rural</th>\n",
       "      <th>Property_Area_Semiurban</th>\n",
       "      <th>Property_Area_Urban</th>\n",
       "    </tr>\n",
       "  </thead>\n",
       "  <tbody>\n",
       "    <tr>\n",
       "      <th>0</th>\n",
       "      <td>5849.00000</td>\n",
       "      <td>0.0</td>\n",
       "      <td>146.412162</td>\n",
       "      <td>360.0</td>\n",
       "      <td>1.0</td>\n",
       "      <td>0</td>\n",
       "      <td>1</td>\n",
       "      <td>1</td>\n",
       "      <td>0</td>\n",
       "      <td>1</td>\n",
       "      <td>0</td>\n",
       "      <td>0</td>\n",
       "      <td>0</td>\n",
       "      <td>1</td>\n",
       "      <td>0</td>\n",
       "      <td>1</td>\n",
       "      <td>0</td>\n",
       "      <td>0</td>\n",
       "      <td>0</td>\n",
       "      <td>1</td>\n",
       "    </tr>\n",
       "    <tr>\n",
       "      <th>1</th>\n",
       "      <td>5405.54085</td>\n",
       "      <td>1508.0</td>\n",
       "      <td>128.000000</td>\n",
       "      <td>360.0</td>\n",
       "      <td>1.0</td>\n",
       "      <td>0</td>\n",
       "      <td>1</td>\n",
       "      <td>0</td>\n",
       "      <td>1</td>\n",
       "      <td>0</td>\n",
       "      <td>1</td>\n",
       "      <td>0</td>\n",
       "      <td>0</td>\n",
       "      <td>1</td>\n",
       "      <td>0</td>\n",
       "      <td>1</td>\n",
       "      <td>0</td>\n",
       "      <td>1</td>\n",
       "      <td>0</td>\n",
       "      <td>0</td>\n",
       "    </tr>\n",
       "  </tbody>\n",
       "</table>\n",
       "</div>"
      ],
      "text/plain": [
       "   ApplicantIncome  CoapplicantIncome  LoanAmount  Loan_Amount_Term  \\\n",
       "0       5849.00000                0.0  146.412162             360.0   \n",
       "1       5405.54085             1508.0  128.000000             360.0   \n",
       "\n",
       "   Credit_History  Gender_Female  Gender_Male  Married_No  Married_Yes  \\\n",
       "0             1.0              0            1           1            0   \n",
       "1             1.0              0            1           0            1   \n",
       "\n",
       "   Dependents_0  Dependents_1  Dependents_2  Dependents_3+  \\\n",
       "0             1             0             0              0   \n",
       "1             0             1             0              0   \n",
       "\n",
       "   Education_Graduate  Education_Not Graduate  Self_Employed_No  \\\n",
       "0                   1                       0                 1   \n",
       "1                   1                       0                 1   \n",
       "\n",
       "   Self_Employed_Yes  Property_Area_Rural  Property_Area_Semiurban  \\\n",
       "0                  0                    0                        0   \n",
       "1                  0                    1                        0   \n",
       "\n",
       "   Property_Area_Urban  \n",
       "0                    1  \n",
       "1                    0  "
      ]
     },
     "execution_count": 24,
     "metadata": {},
     "output_type": "execute_result"
    }
   ],
   "source": [
    "Xnew.head(2)"
   ]
  },
  {
   "cell_type": "markdown",
   "id": "37325c11",
   "metadata": {},
   "source": [
    "# Model Creation"
   ]
  },
  {
   "cell_type": "markdown",
   "id": "5f67542b",
   "metadata": {},
   "source": [
    "##### Model 1:"
   ]
  },
  {
   "cell_type": "code",
   "execution_count": 25,
   "id": "72412b79",
   "metadata": {},
   "outputs": [
    {
     "name": "stdout",
     "output_type": "stream",
     "text": [
      "Training Acc: 1.0\n",
      "Testing Acc: 0.7241379310344828\n"
     ]
    }
   ],
   "source": [
    "from sklearn.model_selection import train_test_split\n",
    "xtrain,xtest,ytrain,ytest = train_test_split(Xnew,Y,test_size=.2,random_state=56)\n",
    "\n",
    "from sklearn.tree import DecisionTreeClassifier\n",
    "dtc = DecisionTreeClassifier()\n",
    "\n",
    "model = dtc.fit(xtrain,ytrain)\n",
    "\n",
    "tr_pred = model.predict(xtrain)\n",
    "ts_pred = model.predict(xtest)\n",
    "\n",
    "from sklearn.metrics import accuracy_score\n",
    "\n",
    "tr_acc = accuracy_score(ytrain,tr_pred)\n",
    "ts_acc = accuracy_score(ytest,ts_pred)\n",
    "print('Training Acc:',tr_acc)\n",
    "print('Testing Acc:',ts_acc)"
   ]
  },
  {
   "cell_type": "markdown",
   "id": "ef7f23bf",
   "metadata": {},
   "source": [
    "##### Model 2:"
   ]
  },
  {
   "cell_type": "code",
   "execution_count": 26,
   "id": "028a1db2",
   "metadata": {},
   "outputs": [
    {
     "name": "stdout",
     "output_type": "stream",
     "text": [
      "Training Acc: 0.8156182212581344\n",
      "Testing Acc: 0.8362068965517241\n"
     ]
    }
   ],
   "source": [
    "from sklearn.tree import DecisionTreeClassifier\n",
    "dtc = DecisionTreeClassifier(random_state=13,max_depth=2)\n",
    "\n",
    "model = dtc.fit(xtrain,ytrain)\n",
    "\n",
    "tr_pred = model.predict(xtrain)\n",
    "ts_pred = model.predict(xtest)\n",
    "\n",
    "from sklearn.metrics import accuracy_score\n",
    "\n",
    "tr_acc = accuracy_score(ytrain,tr_pred)\n",
    "ts_acc = accuracy_score(ytest,ts_pred)\n",
    "print('Training Acc:',tr_acc)\n",
    "print('Testing Acc:',ts_acc)"
   ]
  },
  {
   "cell_type": "markdown",
   "id": "9e5a07f2",
   "metadata": {},
   "source": [
    "# Model 3"
   ]
  },
  {
   "cell_type": "code",
   "execution_count": 27,
   "id": "626f6103",
   "metadata": {},
   "outputs": [
    {
     "name": "stdout",
     "output_type": "stream",
     "text": [
      "Training Acc: 0.8134490238611713\n",
      "Testing Acc: 0.8362068965517241\n"
     ]
    }
   ],
   "source": [
    "from sklearn.tree import DecisionTreeClassifier\n",
    "dtc = DecisionTreeClassifier(random_state=56,max_depth=2,min_samples_leaf=20)\n",
    "\n",
    "model = dtc.fit(xtrain,ytrain)\n",
    "\n",
    "tr_pred = model.predict(xtrain)\n",
    "ts_pred = model.predict(xtest)\n",
    "\n",
    "from sklearn.metrics import accuracy_score\n",
    "\n",
    "tr_acc = accuracy_score(ytrain,tr_pred)\n",
    "ts_acc = accuracy_score(ytest,ts_pred)\n",
    "print('Training Acc:',tr_acc)\n",
    "print('Testing Acc:',ts_acc)"
   ]
  },
  {
   "cell_type": "markdown",
   "id": "632112da",
   "metadata": {},
   "source": [
    "# RFC"
   ]
  },
  {
   "cell_type": "code",
   "execution_count": 28,
   "id": "ae5c54a6",
   "metadata": {},
   "outputs": [
    {
     "name": "stdout",
     "output_type": "stream",
     "text": [
      "Training Acc: 0.8286334056399133\n",
      "Testing Acc: 0.8275862068965517\n"
     ]
    }
   ],
   "source": [
    "from sklearn.ensemble import RandomForestClassifier\n",
    "rfc = RandomForestClassifier(random_state=56,n_estimators=26,criterion='gini',max_depth=5)\n",
    "\n",
    "model = rfc.fit(xtrain,ytrain)\n",
    "\n",
    "tr_pred = model.predict(xtrain)\n",
    "ts_pred = model.predict(xtest)\n",
    "\n",
    "from sklearn.metrics import accuracy_score\n",
    "\n",
    "tr_acc = accuracy_score(ytrain,tr_pred)\n",
    "ts_acc = accuracy_score(ytest,ts_pred)\n",
    "print('Training Acc:',tr_acc)\n",
    "print('Testing Acc:',ts_acc)"
   ]
  },
  {
   "cell_type": "code",
   "execution_count": 29,
   "id": "ccc2e7af",
   "metadata": {},
   "outputs": [],
   "source": [
    "# tg = {'n_estimators':range(2,50),'criterion':['gini','entropy'],'max_depth':range(2,15)}\n",
    "# from sklearn.model_selection import GridSearchCV\n",
    "\n",
    "# rfc = RandomForestClassifier(random_state=56)\n",
    "# cv = GridSearchCV(rfc,tg,scoring='accuracy',cv=4)\n",
    "# cvmodel = cv.fit(Xnew,Y)\n",
    "# cvmodel.best_params_"
   ]
  },
  {
   "cell_type": "code",
   "execution_count": 30,
   "id": "d9477b7a",
   "metadata": {},
   "outputs": [
    {
     "name": "stdout",
     "output_type": "stream",
     "text": [
      "Training Acc: 0.8611713665943601\n",
      "Testing Acc: 0.8362068965517241\n"
     ]
    }
   ],
   "source": [
    "from sklearn.ensemble import RandomForestClassifier\n",
    "rfc = RandomForestClassifier(random_state=56,n_estimators=22,criterion='gini',max_depth=6)\n",
    "\n",
    "model = rfc.fit(xtrain,ytrain)\n",
    "\n",
    "tr_pred = model.predict(xtrain)\n",
    "ts_pred = model.predict(xtest)\n",
    "\n",
    "from sklearn.metrics import accuracy_score\n",
    "\n",
    "tr_acc = accuracy_score(ytrain,tr_pred)\n",
    "ts_acc = accuracy_score(ytest,ts_pred)\n",
    "print('Training Acc:',tr_acc)\n",
    "print('Testing Acc:',ts_acc)"
   ]
  },
  {
   "cell_type": "markdown",
   "id": "318623e4",
   "metadata": {},
   "source": [
    "# ADB"
   ]
  },
  {
   "cell_type": "code",
   "execution_count": 31,
   "id": "c2ed138d",
   "metadata": {},
   "outputs": [
    {
     "name": "stdout",
     "output_type": "stream",
     "text": [
      "Training Acc: 1.0\n",
      "Testing Acc: 0.7672413793103449\n"
     ]
    }
   ],
   "source": [
    "from sklearn.tree import DecisionTreeClassifier\n",
    "dtc = DecisionTreeClassifier(random_state=56,min_samples_leaf=12)\n",
    "\n",
    "from sklearn.ensemble import AdaBoostClassifier\n",
    "adb = AdaBoostClassifier(dtc,n_estimators=43)\n",
    "\n",
    "model = adb.fit(xtrain,ytrain)\n",
    "\n",
    "tr_pred = model.predict(xtrain)\n",
    "ts_pred = model.predict(xtest)\n",
    "\n",
    "from sklearn.metrics import accuracy_score\n",
    "\n",
    "tr_acc = accuracy_score(ytrain,tr_pred)\n",
    "ts_acc = accuracy_score(ytest,ts_pred)\n",
    "print('Training Acc:',tr_acc)\n",
    "print('Testing Acc:',ts_acc)"
   ]
  },
  {
   "cell_type": "code",
   "execution_count": 32,
   "id": "26240ac3",
   "metadata": {},
   "outputs": [],
   "source": [
    "# tg = {'n_estimators':range(2,70),'random_state':range(0,100)}\n",
    "# from sklearn.model_selection import GridSearchCV\n",
    "# from sklearn.ensemble import AdaBoostClassifier\n",
    "# dtc = DecisionTreeClassifier(random_state=56,min_samples_leaf=12)\n",
    "# adb = AdaBoostClassifier(dtc)\n",
    "# cv = GridSearchCV(adb,tg,scoring='accuracy',cv=4)\n",
    "# cvmodel = cv.fit(Xnew,Y)\n",
    "# cvmodel.best_params_"
   ]
  },
  {
   "cell_type": "code",
   "execution_count": 33,
   "id": "c03f8d76",
   "metadata": {},
   "outputs": [
    {
     "name": "stdout",
     "output_type": "stream",
     "text": [
      "Training Acc: 0.982646420824295\n",
      "Testing Acc: 0.7844827586206896\n"
     ]
    }
   ],
   "source": [
    "from sklearn.tree import DecisionTreeClassifier\n",
    "dtc = DecisionTreeClassifier(random_state=56,min_samples_leaf=48)\n",
    "\n",
    "from sklearn.ensemble import AdaBoostClassifier\n",
    "adb = AdaBoostClassifier(dtc,n_estimators=48,random_state=55)\n",
    "\n",
    "model = adb.fit(xtrain,ytrain)\n",
    "\n",
    "tr_pred = model.predict(xtrain)\n",
    "ts_pred = model.predict(xtest)\n",
    "\n",
    "from sklearn.metrics import accuracy_score\n",
    "\n",
    "tr_acc = accuracy_score(ytrain,tr_pred)\n",
    "ts_acc = accuracy_score(ytest,ts_pred)\n",
    "print('Training Acc:',tr_acc)\n",
    "print('Testing Acc:',ts_acc)"
   ]
  },
  {
   "cell_type": "code",
   "execution_count": 34,
   "id": "97ba0a06",
   "metadata": {},
   "outputs": [
    {
     "data": {
      "text/plain": [
       "31"
      ]
     },
     "execution_count": 34,
     "metadata": {},
     "output_type": "execute_result"
    }
   ],
   "source": [
    "31"
   ]
  },
  {
   "cell_type": "code",
   "execution_count": 35,
   "id": "23b0d22e",
   "metadata": {},
   "outputs": [
    {
     "name": "stdout",
     "output_type": "stream",
     "text": [
      "Training Acc: 0.8221258134490239\n",
      "Testing Acc: 0.8189655172413793\n"
     ]
    }
   ],
   "source": [
    "from sklearn.tree import DecisionTreeClassifier\n",
    "dtc = DecisionTreeClassifier(random_state=56,min_samples_leaf=48)\n",
    "\n",
    "from sklearn.ensemble import AdaBoostClassifier\n",
    "adb = AdaBoostClassifier(dtc,n_estimators=2,random_state=55)\n",
    "\n",
    "model = adb.fit(xtrain,ytrain)\n",
    "\n",
    "tr_pred = model.predict(xtrain)\n",
    "ts_pred = model.predict(xtest)\n",
    "\n",
    "from sklearn.metrics import accuracy_score\n",
    "\n",
    "tr_acc = accuracy_score(ytrain,tr_pred)\n",
    "ts_acc = accuracy_score(ytest,ts_pred)\n",
    "print('Training Acc:',tr_acc)\n",
    "print('Testing Acc:',ts_acc)"
   ]
  },
  {
   "cell_type": "code",
   "execution_count": 36,
   "id": "45bc3421",
   "metadata": {},
   "outputs": [],
   "source": [
    "# tg = {'n_estimators':range(2,70)}\n",
    "# from sklearn.model_selection import GridSearchCV\n",
    "# from sklearn.ensemble import AdaBoostClassifier\n",
    "# dtc = DecisionTreeClassifier(random_state=56,min_samples_leaf=48)\n",
    "# adb = AdaBoostClassifier(dtc,random_state=55)\n",
    "# cv = GridSearchCV(adb,tg,scoring='accuracy',cv=4)\n",
    "# cvmodel = cv.fit(Xnew,Y)\n",
    "# cvmodel.best_params_"
   ]
  },
  {
   "cell_type": "markdown",
   "id": "22ed7ae1",
   "metadata": {},
   "source": [
    "# Creating prediction Based of Testing data\n",
    "### Importing Testing data"
   ]
  },
  {
   "cell_type": "code",
   "execution_count": 37,
   "id": "0352e1af",
   "metadata": {},
   "outputs": [],
   "source": [
    "B = pd.read_csv(\"/Users/sourabhdabke/Documents/ETL_Hive/Python/Week_19_Proj3/Sun_Proj4/testing_set.csv\")"
   ]
  },
  {
   "cell_type": "code",
   "execution_count": 38,
   "id": "e9bb05b1",
   "metadata": {},
   "outputs": [],
   "source": [
    "Bnew = B[X.columns]"
   ]
  },
  {
   "cell_type": "code",
   "execution_count": 39,
   "id": "bc95064b",
   "metadata": {},
   "outputs": [
    {
     "data": {
      "text/plain": [
       "Gender               11\n",
       "Married               0\n",
       "Dependents           10\n",
       "Education             0\n",
       "Self_Employed        23\n",
       "ApplicantIncome       0\n",
       "CoapplicantIncome     0\n",
       "LoanAmount            5\n",
       "Loan_Amount_Term      6\n",
       "Credit_History       29\n",
       "Property_Area         0\n",
       "dtype: int64"
      ]
     },
     "execution_count": 39,
     "metadata": {},
     "output_type": "execute_result"
    }
   ],
   "source": [
    "Bnew.isna().sum()"
   ]
  },
  {
   "cell_type": "code",
   "execution_count": 40,
   "id": "2d0f22b7",
   "metadata": {},
   "outputs": [],
   "source": [
    "# for i in B['Credit_History']:\n",
    "x = round(Bnew[[\"Credit_History\"]].mean(),0)\n",
    "Bnew[['Credit_History']] = Bnew[['Credit_History']].fillna(x)"
   ]
  },
  {
   "cell_type": "code",
   "execution_count": 41,
   "id": "6208201e",
   "metadata": {},
   "outputs": [],
   "source": [
    "for i in Bnew.columns:\n",
    "    if Bnew[i].dtypes == 'object':\n",
    "        x = Bnew[i].mode()[0]\n",
    "        Bnew[i] = Bnew[i].fillna(x)\n",
    "    else:\n",
    "        x = Bnew[i].mean()\n",
    "        Bnew[i] = Bnew[i].fillna(x)"
   ]
  },
  {
   "cell_type": "code",
   "execution_count": 42,
   "id": "d2dafd8d",
   "metadata": {},
   "outputs": [
    {
     "data": {
      "text/plain": [
       "array(['ApplicantIncome', 'CoapplicantIncome', 'LoanAmount',\n",
       "       'Loan_Amount_Term', 'Credit_History'], dtype=object)"
      ]
     },
     "execution_count": 42,
     "metadata": {},
     "output_type": "execute_result"
    }
   ],
   "source": [
    "ss.feature_names_in_"
   ]
  },
  {
   "cell_type": "code",
   "execution_count": 43,
   "id": "4c19d5b2",
   "metadata": {},
   "outputs": [],
   "source": [
    "cat = []\n",
    "con = []\n",
    "\n",
    "for i in Bnew.columns:\n",
    "    if Bnew[i].dtypes == 'object':\n",
    "        cat.append(i)\n",
    "    else:\n",
    "        con.append(i)\n",
    "        \n",
    "B1 = pd.get_dummies(Bnew[cat])        \n",
    "B2= Bnew[con]\n",
    "\n",
    "Bnew1 = B2.join(B1)"
   ]
  },
  {
   "cell_type": "markdown",
   "id": "55156cc2",
   "metadata": {},
   "source": [
    "# Creating prediction based of created model"
   ]
  },
  {
   "cell_type": "code",
   "execution_count": 44,
   "id": "779be092",
   "metadata": {},
   "outputs": [],
   "source": [
    "T = model.predict(Bnew1)"
   ]
  },
  {
   "cell_type": "code",
   "execution_count": 45,
   "id": "d8144590",
   "metadata": {},
   "outputs": [
    {
     "data": {
      "text/plain": [
       "(367,)"
      ]
     },
     "execution_count": 45,
     "metadata": {},
     "output_type": "execute_result"
    }
   ],
   "source": [
    "T.shape"
   ]
  },
  {
   "cell_type": "code",
   "execution_count": 46,
   "id": "922f6a23",
   "metadata": {},
   "outputs": [],
   "source": [
    "submission = B[['Loan_ID']]"
   ]
  },
  {
   "cell_type": "code",
   "execution_count": 47,
   "id": "12a248e2",
   "metadata": {},
   "outputs": [],
   "source": [
    "submission['Loan_Prediction'] = T"
   ]
  },
  {
   "cell_type": "code",
   "execution_count": 48,
   "id": "ec7d32b4",
   "metadata": {},
   "outputs": [],
   "source": [
    "submission.to_csv('/Users/sourabhdabke/Documents/ETL_Hive/Python/Week_19_Proj3/Sun_Proj4/submission.csv',index=None)"
   ]
  },
  {
   "cell_type": "code",
   "execution_count": 49,
   "id": "60be9dfa",
   "metadata": {},
   "outputs": [
    {
     "data": {
      "text/html": [
       "<div>\n",
       "<style scoped>\n",
       "    .dataframe tbody tr th:only-of-type {\n",
       "        vertical-align: middle;\n",
       "    }\n",
       "\n",
       "    .dataframe tbody tr th {\n",
       "        vertical-align: top;\n",
       "    }\n",
       "\n",
       "    .dataframe thead th {\n",
       "        text-align: right;\n",
       "    }\n",
       "</style>\n",
       "<table border=\"1\" class=\"dataframe\">\n",
       "  <thead>\n",
       "    <tr style=\"text-align: right;\">\n",
       "      <th></th>\n",
       "      <th>Loan_ID</th>\n",
       "      <th>Loan_Prediction</th>\n",
       "    </tr>\n",
       "  </thead>\n",
       "  <tbody>\n",
       "    <tr>\n",
       "      <th>0</th>\n",
       "      <td>LP001015</td>\n",
       "      <td>Y</td>\n",
       "    </tr>\n",
       "    <tr>\n",
       "      <th>1</th>\n",
       "      <td>LP001022</td>\n",
       "      <td>Y</td>\n",
       "    </tr>\n",
       "    <tr>\n",
       "      <th>2</th>\n",
       "      <td>LP001031</td>\n",
       "      <td>Y</td>\n",
       "    </tr>\n",
       "    <tr>\n",
       "      <th>3</th>\n",
       "      <td>LP001035</td>\n",
       "      <td>Y</td>\n",
       "    </tr>\n",
       "    <tr>\n",
       "      <th>4</th>\n",
       "      <td>LP001051</td>\n",
       "      <td>Y</td>\n",
       "    </tr>\n",
       "  </tbody>\n",
       "</table>\n",
       "</div>"
      ],
      "text/plain": [
       "    Loan_ID Loan_Prediction\n",
       "0  LP001015               Y\n",
       "1  LP001022               Y\n",
       "2  LP001031               Y\n",
       "3  LP001035               Y\n",
       "4  LP001051               Y"
      ]
     },
     "execution_count": 49,
     "metadata": {},
     "output_type": "execute_result"
    }
   ],
   "source": [
    "submission.head()"
   ]
  },
  {
   "cell_type": "markdown",
   "id": "488ad12b",
   "metadata": {},
   "source": [
    "&emsp;"
   ]
  },
  {
   "cell_type": "markdown",
   "id": "b3ab21fb",
   "metadata": {},
   "source": [
    "&emsp;"
   ]
  },
  {
   "cell_type": "markdown",
   "id": "6bcf7f6b",
   "metadata": {},
   "source": [
    "&emsp;"
   ]
  },
  {
   "cell_type": "markdown",
   "id": "edf75ac0",
   "metadata": {},
   "source": [
    "&emsp;"
   ]
  },
  {
   "cell_type": "markdown",
   "id": "9575afa3",
   "metadata": {},
   "source": [
    "&emsp;"
   ]
  },
  {
   "cell_type": "markdown",
   "id": "632f8b96",
   "metadata": {},
   "source": [
    "&emsp;"
   ]
  },
  {
   "cell_type": "markdown",
   "id": "51d73597",
   "metadata": {},
   "source": [
    "&emsp;"
   ]
  },
  {
   "cell_type": "markdown",
   "id": "3b587333",
   "metadata": {},
   "source": [
    "# Part 2"
   ]
  },
  {
   "cell_type": "markdown",
   "id": "9916436a",
   "metadata": {},
   "source": [
    "#### 2. If the customer is not eligible for the input required amount and duration:\n",
    "\n",
    "        A. What can be the amount for the given duration.\n",
    "        B. If the duration is less than equal to 20 years, is the customer eligible for the required amount for some longer duration? What is that duration?"
   ]
  },
  {
   "cell_type": "code",
   "execution_count": 51,
   "id": "69f003a3",
   "metadata": {},
   "outputs": [],
   "source": [
    "B['Loan_Status'] = T"
   ]
  },
  {
   "cell_type": "code",
   "execution_count": 54,
   "id": "c5773d2a",
   "metadata": {},
   "outputs": [],
   "source": [
    "for i in B.columns:\n",
    "    if B[i].dtypes == 'object':\n",
    "        x = B[i].mode()[0]\n",
    "        B[i] = B[i].fillna(x)\n",
    "    else:\n",
    "        x = B[i].mean()\n",
    "        B[i] = B[i].fillna(x)"
   ]
  },
  {
   "cell_type": "code",
   "execution_count": 57,
   "id": "5afbfd7e",
   "metadata": {},
   "outputs": [],
   "source": [
    "#B.isna().sum()"
   ]
  },
  {
   "cell_type": "markdown",
   "id": "1cec7c36",
   "metadata": {},
   "source": [
    "## Testing Data:"
   ]
  },
  {
   "cell_type": "code",
   "execution_count": 117,
   "id": "352854cc",
   "metadata": {},
   "outputs": [],
   "source": [
    "B1 = B[B['Loan_Status'] == 'N']\n",
    "B1 = B1.drop(labels=['Loan_Status','Loan_ID','LoanAmount'],axis=1)\n",
    "B1.index = range(0,B1.shape[0])"
   ]
  },
  {
   "cell_type": "markdown",
   "id": "43dc6f27",
   "metadata": {},
   "source": [
    "#### xtest"
   ]
  },
  {
   "cell_type": "code",
   "execution_count": 167,
   "id": "3dfbc822",
   "metadata": {},
   "outputs": [],
   "source": [
    "cat = []\n",
    "con = []\n",
    "\n",
    "for i in B1.columns:\n",
    "    if B1[i].dtypes == 'object':\n",
    "        cat.append(i)\n",
    "    else:\n",
    "        con.append(i)\n",
    "        \n",
    "B11 = pd.get_dummies(B1[cat])\n",
    "from sklearn.preprocessing import StandardScaler\n",
    "ss = StandardScaler()\n",
    "B12= pd.DataFrame(ss.fit_transform(B1[con]),columns=con)\n",
    "\n",
    "xtest_final = B12.join(B11)"
   ]
  },
  {
   "cell_type": "code",
   "execution_count": 168,
   "id": "f5c95af2",
   "metadata": {},
   "outputs": [
    {
     "data": {
      "text/plain": [
       "[1, 2, 20, 22, 56, 59]"
      ]
     },
     "execution_count": 168,
     "metadata": {},
     "output_type": "execute_result"
    }
   ],
   "source": [
    "outliers = []\n",
    "for i in con:\n",
    "    outliers.extend(list(xtest_final[xtest_final[i] > 3].index))\n",
    "    outliers.extend(list(xtest_final[xtest_final[i] < -3].index))\n",
    "from numpy import unique\n",
    "list(unique(outliers))"
   ]
  },
  {
   "cell_type": "code",
   "execution_count": 169,
   "id": "3678d98f",
   "metadata": {},
   "outputs": [],
   "source": [
    "xtest_final.drop(index=outliers,axis=0)\n",
    "xtest_final.index = range(0,xtest_final.shape[0])"
   ]
  },
  {
   "cell_type": "markdown",
   "id": "3d321de1",
   "metadata": {},
   "source": [
    "## Training Data"
   ]
  },
  {
   "cell_type": "markdown",
   "id": "6d5b293f",
   "metadata": {},
   "source": [
    "#### xtrain"
   ]
  },
  {
   "cell_type": "code",
   "execution_count": 122,
   "id": "1910b011",
   "metadata": {},
   "outputs": [],
   "source": [
    "B2 = A[B1.columns]\n",
    "B2['Loan_Status'] = A.Loan_Status\n",
    "B2 = B2[B2['Loan_Status'] == 'Y']\n",
    "B2 = B2.drop(labels=['Loan_Status'],axis=1)\n",
    "B2.index = range(0,B2.shape[0])"
   ]
  },
  {
   "cell_type": "code",
   "execution_count": 170,
   "id": "eeec0709",
   "metadata": {},
   "outputs": [],
   "source": [
    "cat = []\n",
    "con = []\n",
    "\n",
    "for i in B2.columns:\n",
    "    if B2[i].dtypes == 'object':\n",
    "        cat.append(i)\n",
    "    else:\n",
    "        con.append(i)\n",
    "        \n",
    "B11 = pd.get_dummies(B2[cat])\n",
    "from sklearn.preprocessing import StandardScaler\n",
    "ss = StandardScaler()\n",
    "B12= pd.DataFrame(ss.fit_transform(B2[con]),columns=con)\n",
    "\n",
    "xtrain_final = B12.join(B11)"
   ]
  },
  {
   "cell_type": "markdown",
   "id": "d1d597cf",
   "metadata": {},
   "source": [
    "#### ytrain"
   ]
  },
  {
   "cell_type": "code",
   "execution_count": 171,
   "id": "4a2a1429",
   "metadata": {},
   "outputs": [],
   "source": [
    "B3 = A[['LoanAmount']]\n",
    "ytrain_final = B3.iloc[B2.index,:]\n",
    "ytrain_final.index = range(0,ytrain_final.shape[0])"
   ]
  },
  {
   "cell_type": "markdown",
   "id": "a3920afc",
   "metadata": {},
   "source": [
    "# Creating Different Models"
   ]
  },
  {
   "cell_type": "code",
   "execution_count": 172,
   "id": "d6277f3a",
   "metadata": {},
   "outputs": [],
   "source": [
    "X = xtrain_final\n",
    "Y = ytrain_final"
   ]
  },
  {
   "cell_type": "code",
   "execution_count": 173,
   "id": "85f35e7c",
   "metadata": {},
   "outputs": [],
   "source": [
    "from sklearn.model_selection import train_test_split\n",
    "xtrain,xtest,ytrain,ytest = train_test_split(X,Y,test_size=0.2,random_state=31)"
   ]
  },
  {
   "cell_type": "markdown",
   "id": "2d810431",
   "metadata": {},
   "source": [
    "### DTR with best max depth"
   ]
  },
  {
   "cell_type": "code",
   "execution_count": 316,
   "id": "ff6f75d8",
   "metadata": {},
   "outputs": [
    {
     "name": "stdout",
     "output_type": "stream",
     "text": [
      "Training Error: 45.761047397545916\n",
      "Testing Error: 55.86160572337043\n"
     ]
    }
   ],
   "source": [
    "from sklearn.tree import DecisionTreeRegressor\n",
    "dtr = DecisionTreeRegressor(max_depth=2,criterion='absolute_error')\n",
    "\n",
    "model = dtr.fit(xtrain,ytrain)\n",
    "\n",
    "tr_pred = model.predict(xtrain)\n",
    "ts_pred = model.predict(xtest)\n",
    "\n",
    "from sklearn.metrics import mean_absolute_error\n",
    "\n",
    "tr_err = mean_absolute_error(ytrain,tr_pred)\n",
    "ts_err = mean_absolute_error(ytest,ts_pred)\n",
    "print('Training Error:',tr_err)\n",
    "print('Testing Error:',ts_err)"
   ]
  },
  {
   "cell_type": "code",
   "execution_count": 202,
   "id": "e3c7846f",
   "metadata": {},
   "outputs": [
    {
     "data": {
      "text/plain": [
       "{'max_depth': 2}"
      ]
     },
     "execution_count": 202,
     "metadata": {},
     "output_type": "execute_result"
    }
   ],
   "source": [
    "tg = {'max_depth':range(2,10)}\n",
    "from sklearn.model_selection import GridSearchCV\n",
    "from sklearn.tree import DecisionTreeRegressor\n",
    "dtr = DecisionTreeRegressor()\n",
    "cv = GridSearchCV(dtr,tg,scoring='neg_mean_absolute_error',cv=4)\n",
    "cvmodel = cv.fit(xtrain,ytrain)\n",
    "cvmodel.best_params_"
   ]
  },
  {
   "cell_type": "markdown",
   "id": "21ba1c1f",
   "metadata": {},
   "source": [
    "### DTR with best mim sample split"
   ]
  },
  {
   "cell_type": "code",
   "execution_count": 210,
   "id": "8abcc474",
   "metadata": {},
   "outputs": [
    {
     "name": "stdout",
     "output_type": "stream",
     "text": [
      "Training Error: 46.970687304515195\n",
      "Testing Error: 55.88306836248013\n"
     ]
    }
   ],
   "source": [
    "from sklearn.tree import DecisionTreeRegressor\n",
    "dtr = DecisionTreeRegressor(min_samples_split=222,criterion='absolute_error')\n",
    "\n",
    "model = dtr.fit(xtrain,ytrain)\n",
    "\n",
    "tr_pred = model.predict(xtrain)\n",
    "ts_pred = model.predict(xtest)\n",
    "\n",
    "from sklearn.metrics import mean_absolute_error\n",
    "\n",
    "tr_err = mean_absolute_error(ytrain,tr_pred)\n",
    "ts_err = mean_absolute_error(ytest,ts_pred)\n",
    "print('Training Error:',tr_err)\n",
    "print('Testing Error:',ts_err)"
   ]
  },
  {
   "cell_type": "code",
   "execution_count": 209,
   "id": "0015cfe9",
   "metadata": {},
   "outputs": [
    {
     "data": {
      "text/plain": [
       "{'min_samples_split': 222}"
      ]
     },
     "execution_count": 209,
     "metadata": {},
     "output_type": "execute_result"
    }
   ],
   "source": [
    "tg = {'min_samples_split':range(2,350)}\n",
    "from sklearn.model_selection import GridSearchCV\n",
    "from sklearn.tree import DecisionTreeRegressor\n",
    "dtr = DecisionTreeRegressor(criterion='absolute_error')\n",
    "cv = GridSearchCV(dtr,tg,scoring='neg_mean_absolute_error',cv=4)\n",
    "cvmodel = cv.fit(xtrain,ytrain)\n",
    "cvmodel.best_params_"
   ]
  },
  {
   "cell_type": "markdown",
   "id": "13048956",
   "metadata": {},
   "source": [
    "### DTR with min sample leaf"
   ]
  },
  {
   "cell_type": "code",
   "execution_count": 212,
   "id": "2a13c39c",
   "metadata": {},
   "outputs": [
    {
     "name": "stdout",
     "output_type": "stream",
     "text": [
      "Training Error: 46.970687304515195\n",
      "Testing Error: 55.88306836248013\n"
     ]
    }
   ],
   "source": [
    "from sklearn.tree import DecisionTreeRegressor\n",
    "dtr = DecisionTreeRegressor(min_samples_leaf=118,criterion='absolute_error')\n",
    "\n",
    "model = dtr.fit(xtrain,ytrain)\n",
    "\n",
    "tr_pred = model.predict(xtrain)\n",
    "ts_pred = model.predict(xtest)\n",
    "\n",
    "from sklearn.metrics import mean_absolute_error\n",
    "\n",
    "tr_err = mean_absolute_error(ytrain,tr_pred)\n",
    "ts_err = mean_absolute_error(ytest,ts_pred)\n",
    "print('Training Error:',tr_err)\n",
    "print('Testing Error:',ts_err)"
   ]
  },
  {
   "cell_type": "code",
   "execution_count": 211,
   "id": "fb65f956",
   "metadata": {},
   "outputs": [
    {
     "data": {
      "text/plain": [
       "{'min_samples_leaf': 118}"
      ]
     },
     "execution_count": 211,
     "metadata": {},
     "output_type": "execute_result"
    }
   ],
   "source": [
    "tg = {'min_samples_leaf':range(2,350)}\n",
    "from sklearn.model_selection import GridSearchCV\n",
    "from sklearn.tree import DecisionTreeRegressor\n",
    "dtr = DecisionTreeRegressor(criterion='absolute_error')\n",
    "cv = GridSearchCV(dtr,tg,scoring='neg_mean_absolute_error',cv=4)\n",
    "cvmodel = cv.fit(xtrain,ytrain)\n",
    "cvmodel.best_params_"
   ]
  },
  {
   "cell_type": "markdown",
   "id": "b58cb4dc",
   "metadata": {},
   "source": [
    "### DTR best model with max depth 2\n",
    "    Training Error: 45.30303151816504\n",
    "    Testing Error: 55.88306836248013"
   ]
  },
  {
   "cell_type": "markdown",
   "id": "ea287295",
   "metadata": {},
   "source": [
    "&emsp;"
   ]
  },
  {
   "cell_type": "markdown",
   "id": "baa3d901",
   "metadata": {},
   "source": [
    "&emsp;"
   ]
  },
  {
   "cell_type": "markdown",
   "id": "ad2a01ca",
   "metadata": {},
   "source": [
    "&emsp;"
   ]
  },
  {
   "cell_type": "markdown",
   "id": "784807ac",
   "metadata": {},
   "source": [
    "&emsp;"
   ]
  },
  {
   "cell_type": "markdown",
   "id": "57b13867",
   "metadata": {},
   "source": [
    "# RFR"
   ]
  },
  {
   "cell_type": "markdown",
   "id": "eb08fa08",
   "metadata": {},
   "source": [
    "### RFR with max depth"
   ]
  },
  {
   "cell_type": "code",
   "execution_count": 227,
   "id": "ddb173a9",
   "metadata": {},
   "outputs": [
    {
     "name": "stdout",
     "output_type": "stream",
     "text": [
      "Training Error: 44.59902057101612\n",
      "Testing Error: 59.60763116057233\n"
     ]
    }
   ],
   "source": [
    "from sklearn.ensemble import RandomForestRegressor\n",
    "rfr = RandomForestRegressor(random_state=31,n_estimators = 2,max_depth=3,criterion='absolute_error')\n",
    "\n",
    "model = rfr.fit(xtrain,ytrain)\n",
    "\n",
    "tr_pred = model.predict(xtrain)\n",
    "ts_pred = model.predict(xtest)\n",
    "\n",
    "from sklearn.metrics import mean_absolute_error\n",
    "\n",
    "tr_err = mean_absolute_error(ytrain,tr_pred)\n",
    "ts_err = mean_absolute_error(ytest,ts_pred)\n",
    "print('Training Error:',tr_err)\n",
    "print('Testing Error:',ts_err)"
   ]
  },
  {
   "cell_type": "code",
   "execution_count": 226,
   "id": "51b1381d",
   "metadata": {},
   "outputs": [
    {
     "data": {
      "text/plain": [
       "{'max_depth': 3, 'n_estimators': 2}"
      ]
     },
     "execution_count": 226,
     "metadata": {},
     "output_type": "execute_result"
    }
   ],
   "source": [
    "tg = {'max_depth':range(0,5),'n_estimators':range(2,75)}\n",
    "from sklearn.model_selection import GridSearchCV\n",
    "from sklearn.ensemble import RandomForestRegressor\n",
    "rfr = RandomForestRegressor(random_state=31,criterion='absolute_error')\n",
    "cv = GridSearchCV(rfr,tg,scoring='neg_mean_absolute_error',cv=4)\n",
    "cvmodel = cv.fit(xtrain,ytrain)\n",
    "cvmodel.best_params_"
   ]
  },
  {
   "cell_type": "markdown",
   "id": "014db198",
   "metadata": {},
   "source": [
    "### RFR with min sample split"
   ]
  },
  {
   "cell_type": "code",
   "execution_count": 231,
   "id": "f184cef0",
   "metadata": {},
   "outputs": [
    {
     "name": "stdout",
     "output_type": "stream",
     "text": [
      "Training Error: 42.08544189590184\n",
      "Testing Error: 59.41327198238964\n"
     ]
    }
   ],
   "source": [
    "from sklearn.ensemble import RandomForestRegressor\n",
    "rfr = RandomForestRegressor(random_state=31,n_estimators = 13,min_samples_split=45,criterion='absolute_error')\n",
    "\n",
    "model = rfr.fit(xtrain,ytrain)\n",
    "\n",
    "tr_pred = model.predict(xtrain)\n",
    "ts_pred = model.predict(xtest)\n",
    "\n",
    "from sklearn.metrics import mean_absolute_error\n",
    "\n",
    "tr_err = mean_absolute_error(ytrain,tr_pred)\n",
    "ts_err = mean_absolute_error(ytest,ts_pred)\n",
    "print('Training Error:',tr_err)\n",
    "print('Testing Error:',ts_err)"
   ]
  },
  {
   "cell_type": "code",
   "execution_count": 229,
   "id": "0cca498b",
   "metadata": {},
   "outputs": [
    {
     "data": {
      "text/plain": [
       "{'min_samples_split': 45, 'n_estimators': 13}"
      ]
     },
     "execution_count": 229,
     "metadata": {},
     "output_type": "execute_result"
    }
   ],
   "source": [
    "tg = {'min_samples_split':range(0,50),'n_estimators':range(2,15)}\n",
    "from sklearn.model_selection import GridSearchCV\n",
    "from sklearn.ensemble import RandomForestRegressor\n",
    "rfr = RandomForestRegressor(random_state=31,criterion='absolute_error')\n",
    "cv = GridSearchCV(rfr,tg,scoring='neg_mean_absolute_error',cv=4)\n",
    "cvmodel = cv.fit(xtrain,ytrain)\n",
    "cvmodel.best_params_"
   ]
  },
  {
   "cell_type": "markdown",
   "id": "e3b89d17",
   "metadata": {},
   "source": [
    "### RFR with min sample leaf"
   ]
  },
  {
   "cell_type": "code",
   "execution_count": 232,
   "id": "ef81264f",
   "metadata": {},
   "outputs": [
    {
     "name": "stdout",
     "output_type": "stream",
     "text": [
      "Training Error: 46.85199294249739\n",
      "Testing Error: 56.11983306836248\n"
     ]
    }
   ],
   "source": [
    "from sklearn.ensemble import RandomForestRegressor\n",
    "rfr = RandomForestRegressor(random_state=31,n_estimators = 4,min_samples_leaf=49,criterion='absolute_error')\n",
    "\n",
    "model = rfr.fit(xtrain,ytrain)\n",
    "\n",
    "tr_pred = model.predict(xtrain)\n",
    "ts_pred = model.predict(xtest)\n",
    "\n",
    "from sklearn.metrics import mean_absolute_error\n",
    "\n",
    "tr_err = mean_absolute_error(ytrain,tr_pred)\n",
    "ts_err = mean_absolute_error(ytest,ts_pred)\n",
    "print('Training Error:',tr_err)\n",
    "print('Testing Error:',ts_err)"
   ]
  },
  {
   "cell_type": "code",
   "execution_count": 230,
   "id": "99cade6f",
   "metadata": {},
   "outputs": [
    {
     "data": {
      "text/plain": [
       "{'min_samples_leaf': 49, 'n_estimators': 4}"
      ]
     },
     "execution_count": 230,
     "metadata": {},
     "output_type": "execute_result"
    }
   ],
   "source": [
    "tg = {'min_samples_leaf':range(0,50),'n_estimators':range(2,15)}\n",
    "from sklearn.model_selection import GridSearchCV\n",
    "from sklearn.ensemble import RandomForestRegressor\n",
    "rfr = RandomForestRegressor(random_state=31,criterion='absolute_error')\n",
    "cv = GridSearchCV(rfr,tg,scoring='neg_mean_absolute_error',cv=4)\n",
    "cvmodel = cv.fit(xtrain,ytrain)\n",
    "cvmodel.best_params_"
   ]
  },
  {
   "cell_type": "markdown",
   "id": "897883e5",
   "metadata": {},
   "source": [
    "# Best RFR model with min sample leaf 49 and n estimators 4\n",
    "    Training Error: 46.85199294249739\n",
    "    Testing Error: 56.11983306836248"
   ]
  },
  {
   "cell_type": "markdown",
   "id": "f45a4a7f",
   "metadata": {},
   "source": [
    "&emsp;"
   ]
  },
  {
   "cell_type": "markdown",
   "id": "bc4cc7ea",
   "metadata": {},
   "source": [
    "&emsp;"
   ]
  },
  {
   "cell_type": "markdown",
   "id": "71de7e16",
   "metadata": {},
   "source": [
    "&emsp;"
   ]
  },
  {
   "cell_type": "markdown",
   "id": "2e597c90",
   "metadata": {},
   "source": [
    "&emsp;"
   ]
  },
  {
   "cell_type": "markdown",
   "id": "7bd538aa",
   "metadata": {},
   "source": [
    "# AdaBoost"
   ]
  },
  {
   "cell_type": "code",
   "execution_count": 306,
   "id": "7a497470",
   "metadata": {},
   "outputs": [
    {
     "name": "stdout",
     "output_type": "stream",
     "text": [
      "Training Error: 48.081441976100734\n",
      "Testing Error: 57.58171701112879\n"
     ]
    }
   ],
   "source": [
    "from sklearn.tree import DecisionTreeRegressor\n",
    "dtr = DecisionTreeRegressor(min_samples_leaf=49,criterion='absolute_error')\n",
    "\n",
    "from sklearn.ensemble import AdaBoostRegressor\n",
    "abr = AdaBoostRegressor(dtr,n_estimators=4,random_state=21)\n",
    "\n",
    "model = abr.fit(xtrain,ytrain)\n",
    "\n",
    "tr_pred = model.predict(xtrain)\n",
    "ts_pred = model.predict(xtest)\n",
    "\n",
    "from sklearn.metrics import mean_absolute_error\n",
    "\n",
    "tr_err = mean_absolute_error(ytrain,tr_pred)\n",
    "ts_err = mean_absolute_error(ytest,ts_pred)\n",
    "print('Training Error:',tr_err)\n",
    "\n",
    "print('Testing Error:',ts_err)"
   ]
  },
  {
   "cell_type": "code",
   "execution_count": 300,
   "id": "80e08fb8",
   "metadata": {},
   "outputs": [
    {
     "data": {
      "text/plain": [
       "{'n_estimators': 4}"
      ]
     },
     "execution_count": 300,
     "metadata": {},
     "output_type": "execute_result"
    }
   ],
   "source": [
    "tg = {'n_estimators':range(2,70)}\n",
    "from sklearn.model_selection import GridSearchCV\n",
    "from sklearn.ensemble import AdaBoostRegressor\n",
    "dtr = DecisionTreeRegressor(min_samples_leaf=49,criterion='absolute_error')\n",
    "abr = AdaBoostRegressor(dtr,random_state=31)\n",
    "cv = GridSearchCV(abr,tg,scoring='neg_mean_absolute_error',cv=4)\n",
    "cvmodel = cv.fit(xtrain,ytrain)\n",
    "cvmodel.best_params_"
   ]
  },
  {
   "cell_type": "markdown",
   "id": "3755c32f",
   "metadata": {},
   "source": [
    "# Best ABR with min sample leaf 49 and n estimators 4\n",
    "    Training Error: 48.081441976100734\n",
    "    Testing Error: 57.58171701112879"
   ]
  },
  {
   "cell_type": "markdown",
   "id": "dee753b3",
   "metadata": {},
   "source": [
    "&emsp;"
   ]
  },
  {
   "cell_type": "markdown",
   "id": "150b681b",
   "metadata": {},
   "source": [
    "&emsp;"
   ]
  },
  {
   "cell_type": "markdown",
   "id": "328c4111",
   "metadata": {},
   "source": [
    "# Therefore The best model by far is DTR with max depth 2 with parameters\n",
    "    Training Error: 45.30303151816504\n",
    "    Testing Error: 55.88306836248013"
   ]
  },
  {
   "cell_type": "code",
   "execution_count": 334,
   "id": "2c7a1dda",
   "metadata": {},
   "outputs": [],
   "source": [
    "from sklearn.tree import DecisionTreeRegressor\n",
    "dtr = DecisionTreeRegressor(max_depth=2,criterion='absolute_error')\n",
    "\n",
    "model = dtr.fit(xtrain_final,ytrain_final)"
   ]
  },
  {
   "cell_type": "markdown",
   "id": "c934b681",
   "metadata": {},
   "source": [
    "&emsp;"
   ]
  },
  {
   "cell_type": "markdown",
   "id": "f4fe59aa",
   "metadata": {},
   "source": [
    "&emsp;"
   ]
  },
  {
   "cell_type": "markdown",
   "id": "d63f3ea8",
   "metadata": {},
   "source": [
    "&emsp;"
   ]
  },
  {
   "cell_type": "markdown",
   "id": "c8a863c1",
   "metadata": {},
   "source": [
    "&emsp;"
   ]
  },
  {
   "cell_type": "markdown",
   "id": "b6e15888",
   "metadata": {},
   "source": [
    "&emsp;"
   ]
  },
  {
   "cell_type": "markdown",
   "id": "a918e393",
   "metadata": {},
   "source": [
    "## Creating Prediction beased on Best Model"
   ]
  },
  {
   "cell_type": "code",
   "execution_count": 335,
   "id": "f7e8b4a3",
   "metadata": {},
   "outputs": [],
   "source": [
    "pred = model.predict(xtest_final)"
   ]
  },
  {
   "cell_type": "code",
   "execution_count": 336,
   "id": "773d2e74",
   "metadata": {},
   "outputs": [
    {
     "data": {
      "text/plain": [
       "array([135., 135., 436., 135., 135., 120., 135., 135., 135., 120., 135.,\n",
       "       135., 135., 120., 135., 135., 120., 120., 120., 120., 135., 135.,\n",
       "       135., 135., 135., 135., 120., 135., 135., 135., 120., 120., 135.,\n",
       "       120., 135., 135., 135., 120., 135., 135., 120., 120., 135., 135.,\n",
       "       120., 135., 135., 135., 135., 135., 135., 135., 135., 135., 120.,\n",
       "       120., 120., 120., 135., 135., 135.])"
      ]
     },
     "execution_count": 336,
     "metadata": {},
     "output_type": "execute_result"
    }
   ],
   "source": [
    "pred"
   ]
  },
  {
   "cell_type": "code",
   "execution_count": 345,
   "id": "29b7d3a7",
   "metadata": {},
   "outputs": [
    {
     "data": {
      "text/plain": [
       "[<matplotlib.lines.Line2D at 0x2956537c0>]"
      ]
     },
     "execution_count": 345,
     "metadata": {},
     "output_type": "execute_result"
    },
    {
     "data": {
      "image/png": "[encoded data removed]",
      "text/plain": [
       "<Figure size 1440x720 with 1 Axes>"
      ]
     },
     "metadata": {
      "needs_background": "light"
     },
     "output_type": "display_data"
    }
   ],
   "source": [
    "q = B[B['Loan_Status'] == 'N'][['LoanAmount']]\n",
    "\n",
    "r = range(0,q.shape[0])\n",
    "import matplotlib.pyplot as plt\n",
    "plt.figure(figsize=(20,10))\n",
    "plt.scatter(r,q,s=10)\n",
    "plt.scatter(r,pred,c='k',s=10)\n",
    "plt.plot(r,q,c = 'r')\n",
    "plt.plot(r,pred,c = 'g')"
   ]
  },
  {
   "cell_type": "markdown",
   "id": "c95d948f",
   "metadata": {},
   "source": [
    "# If duration is less than equal to 20 years, is customer eligible for required amount for some longer duration? What is that duration?(Regression)"
   ]
  },
  {
   "cell_type": "markdown",
   "id": "d74f5adc",
   "metadata": {},
   "source": [
    "### xtest"
   ]
  },
  {
   "cell_type": "code",
   "execution_count": 347,
   "id": "e62a2255",
   "metadata": {},
   "outputs": [],
   "source": [
    "B.Loan_Amount_Term = B.Loan_Amount_Term/12"
   ]
  },
  {
   "cell_type": "code",
   "execution_count": 348,
   "id": "e7fad741",
   "metadata": {},
   "outputs": [
    {
     "data": {
      "text/html": [
       "<div>\n",
       "<style scoped>\n",
       "    .dataframe tbody tr th:only-of-type {\n",
       "        vertical-align: middle;\n",
       "    }\n",
       "\n",
       "    .dataframe tbody tr th {\n",
       "        vertical-align: top;\n",
       "    }\n",
       "\n",
       "    .dataframe thead th {\n",
       "        text-align: right;\n",
       "    }\n",
       "</style>\n",
       "<table border=\"1\" class=\"dataframe\">\n",
       "  <thead>\n",
       "    <tr style=\"text-align: right;\">\n",
       "      <th></th>\n",
       "      <th>Loan_ID</th>\n",
       "      <th>Gender</th>\n",
       "      <th>Married</th>\n",
       "      <th>Dependents</th>\n",
       "      <th>Education</th>\n",
       "      <th>Self_Employed</th>\n",
       "      <th>ApplicantIncome</th>\n",
       "      <th>CoapplicantIncome</th>\n",
       "      <th>LoanAmount</th>\n",
       "      <th>Loan_Amount_Term</th>\n",
       "      <th>Credit_History</th>\n",
       "      <th>Property_Area</th>\n",
       "      <th>Loan_Status</th>\n",
       "    </tr>\n",
       "  </thead>\n",
       "  <tbody>\n",
       "    <tr>\n",
       "      <th>0</th>\n",
       "      <td>LP001015</td>\n",
       "      <td>Male</td>\n",
       "      <td>Yes</td>\n",
       "      <td>0</td>\n",
       "      <td>Graduate</td>\n",
       "      <td>No</td>\n",
       "      <td>5720</td>\n",
       "      <td>0</td>\n",
       "      <td>110.0</td>\n",
       "      <td>30.0</td>\n",
       "      <td>1.0</td>\n",
       "      <td>Urban</td>\n",
       "      <td>Y</td>\n",
       "    </tr>\n",
       "    <tr>\n",
       "      <th>1</th>\n",
       "      <td>LP001022</td>\n",
       "      <td>Male</td>\n",
       "      <td>Yes</td>\n",
       "      <td>1</td>\n",
       "      <td>Graduate</td>\n",
       "      <td>No</td>\n",
       "      <td>3076</td>\n",
       "      <td>1500</td>\n",
       "      <td>126.0</td>\n",
       "      <td>30.0</td>\n",
       "      <td>1.0</td>\n",
       "      <td>Urban</td>\n",
       "      <td>Y</td>\n",
       "    </tr>\n",
       "  </tbody>\n",
       "</table>\n",
       "</div>"
      ],
      "text/plain": [
       "    Loan_ID Gender Married Dependents Education Self_Employed  \\\n",
       "0  LP001015   Male     Yes          0  Graduate            No   \n",
       "1  LP001022   Male     Yes          1  Graduate            No   \n",
       "\n",
       "   ApplicantIncome  CoapplicantIncome  LoanAmount  Loan_Amount_Term  \\\n",
       "0             5720                  0       110.0              30.0   \n",
       "1             3076               1500       126.0              30.0   \n",
       "\n",
       "   Credit_History Property_Area Loan_Status  \n",
       "0             1.0         Urban           Y  \n",
       "1             1.0         Urban           Y  "
      ]
     },
     "execution_count": 348,
     "metadata": {},
     "output_type": "execute_result"
    }
   ],
   "source": [
    "B.head(2)"
   ]
  },
  {
   "cell_type": "code",
   "execution_count": 399,
   "id": "23911808",
   "metadata": {},
   "outputs": [
    {
     "data": {
      "text/html": [
       "<div>\n",
       "<style scoped>\n",
       "    .dataframe tbody tr th:only-of-type {\n",
       "        vertical-align: middle;\n",
       "    }\n",
       "\n",
       "    .dataframe tbody tr th {\n",
       "        vertical-align: top;\n",
       "    }\n",
       "\n",
       "    .dataframe thead th {\n",
       "        text-align: right;\n",
       "    }\n",
       "</style>\n",
       "<table border=\"1\" class=\"dataframe\">\n",
       "  <thead>\n",
       "    <tr style=\"text-align: right;\">\n",
       "      <th></th>\n",
       "      <th>Loan_ID</th>\n",
       "      <th>Gender</th>\n",
       "      <th>Married</th>\n",
       "      <th>Dependents</th>\n",
       "      <th>Education</th>\n",
       "      <th>Self_Employed</th>\n",
       "      <th>ApplicantIncome</th>\n",
       "      <th>CoapplicantIncome</th>\n",
       "      <th>LoanAmount</th>\n",
       "      <th>Loan_Amount_Term</th>\n",
       "      <th>Credit_History</th>\n",
       "      <th>Property_Area</th>\n",
       "      <th>Loan_Status</th>\n",
       "    </tr>\n",
       "  </thead>\n",
       "  <tbody>\n",
       "    <tr>\n",
       "      <th>84</th>\n",
       "      <td>LP001450</td>\n",
       "      <td>Male</td>\n",
       "      <td>Yes</td>\n",
       "      <td>0</td>\n",
       "      <td>Graduate</td>\n",
       "      <td>No</td>\n",
       "      <td>4456</td>\n",
       "      <td>0</td>\n",
       "      <td>131.0</td>\n",
       "      <td>15.0</td>\n",
       "      <td>0.0</td>\n",
       "      <td>Semiurban</td>\n",
       "      <td>N</td>\n",
       "    </tr>\n",
       "    <tr>\n",
       "      <th>173</th>\n",
       "      <td>LP001979</td>\n",
       "      <td>Male</td>\n",
       "      <td>No</td>\n",
       "      <td>0</td>\n",
       "      <td>Graduate</td>\n",
       "      <td>No</td>\n",
       "      <td>3017</td>\n",
       "      <td>2845</td>\n",
       "      <td>159.0</td>\n",
       "      <td>15.0</td>\n",
       "      <td>0.0</td>\n",
       "      <td>Urban</td>\n",
       "      <td>N</td>\n",
       "    </tr>\n",
       "    <tr>\n",
       "      <th>245</th>\n",
       "      <td>LP002355</td>\n",
       "      <td>Male</td>\n",
       "      <td>Yes</td>\n",
       "      <td>0</td>\n",
       "      <td>Graduate</td>\n",
       "      <td>No</td>\n",
       "      <td>3186</td>\n",
       "      <td>3145</td>\n",
       "      <td>150.0</td>\n",
       "      <td>15.0</td>\n",
       "      <td>0.0</td>\n",
       "      <td>Semiurban</td>\n",
       "      <td>N</td>\n",
       "    </tr>\n",
       "    <tr>\n",
       "      <th>325</th>\n",
       "      <td>LP002802</td>\n",
       "      <td>Male</td>\n",
       "      <td>No</td>\n",
       "      <td>0</td>\n",
       "      <td>Graduate</td>\n",
       "      <td>No</td>\n",
       "      <td>2875</td>\n",
       "      <td>2416</td>\n",
       "      <td>95.0</td>\n",
       "      <td>0.5</td>\n",
       "      <td>0.0</td>\n",
       "      <td>Semiurban</td>\n",
       "      <td>N</td>\n",
       "    </tr>\n",
       "    <tr>\n",
       "      <th>354</th>\n",
       "      <td>LP002921</td>\n",
       "      <td>Male</td>\n",
       "      <td>Yes</td>\n",
       "      <td>3+</td>\n",
       "      <td>Not Graduate</td>\n",
       "      <td>No</td>\n",
       "      <td>5316</td>\n",
       "      <td>187</td>\n",
       "      <td>158.0</td>\n",
       "      <td>15.0</td>\n",
       "      <td>0.0</td>\n",
       "      <td>Semiurban</td>\n",
       "      <td>N</td>\n",
       "    </tr>\n",
       "  </tbody>\n",
       "</table>\n",
       "</div>"
      ],
      "text/plain": [
       "      Loan_ID Gender Married Dependents     Education Self_Employed  \\\n",
       "84   LP001450   Male     Yes          0      Graduate            No   \n",
       "173  LP001979   Male      No          0      Graduate            No   \n",
       "245  LP002355   Male     Yes          0      Graduate            No   \n",
       "325  LP002802   Male      No          0      Graduate            No   \n",
       "354  LP002921   Male     Yes         3+  Not Graduate            No   \n",
       "\n",
       "     ApplicantIncome  CoapplicantIncome  LoanAmount  Loan_Amount_Term  \\\n",
       "84              4456                  0       131.0              15.0   \n",
       "173             3017               2845       159.0              15.0   \n",
       "245             3186               3145       150.0              15.0   \n",
       "325             2875               2416        95.0               0.5   \n",
       "354             5316                187       158.0              15.0   \n",
       "\n",
       "     Credit_History Property_Area Loan_Status  \n",
       "84              0.0     Semiurban           N  \n",
       "173             0.0         Urban           N  \n",
       "245             0.0     Semiurban           N  \n",
       "325             0.0     Semiurban           N  \n",
       "354             0.0     Semiurban           N  "
      ]
     },
     "execution_count": 399,
     "metadata": {},
     "output_type": "execute_result"
    }
   ],
   "source": [
    "B[(B.Loan_Amount_Term <=20) & (B.Loan_Status == 'N')]"
   ]
  },
  {
   "cell_type": "code",
   "execution_count": 359,
   "id": "99d4672d",
   "metadata": {},
   "outputs": [],
   "source": [
    "xtest = B[(B.Loan_Amount_Term <=20) & (B.Loan_Status == 'Y')]\n",
    "xtest = xtest.drop(labels=['Loan_Status','Loan_ID','Loan_Amount_Term'],axis=1)\n",
    "xtest.index = range(0,xtest.shape[0])\n",
    "\n",
    "cat = []\n",
    "con = []\n",
    "\n",
    "for i in xtest.columns:\n",
    "    if xtest[i].dtypes == 'object':\n",
    "        cat.append(i)\n",
    "    else:\n",
    "        con.append(i)\n",
    "        \n",
    "B11 = pd.get_dummies(xtest[cat])\n",
    "from sklearn.preprocessing import StandardScaler\n",
    "ss = StandardScaler()\n",
    "B12= pd.DataFrame(ss.fit_transform(xtest[con]),columns=con)\n",
    "\n",
    "xtest_final = B12.join(B11)"
   ]
  },
  {
   "cell_type": "markdown",
   "id": "4d8d5e03",
   "metadata": {},
   "source": [
    "### xtrain"
   ]
  },
  {
   "cell_type": "code",
   "execution_count": 384,
   "id": "f45ceeba",
   "metadata": {},
   "outputs": [],
   "source": [
    "xtrain = A[A.Loan_Status == 'Y']\n",
    "xtrain1 = xtrain\n",
    "xtrain1 = xtrain[xtest.columns]\n",
    "xtrain1.index = range(0,xtrain1.shape[0])\n",
    "\n",
    "cat = []\n",
    "con = []\n",
    "\n",
    "for i in xtrain1.columns:\n",
    "    if xtrain1[i].dtypes == 'object':\n",
    "        cat.append(i)\n",
    "    else:\n",
    "        con.append(i)\n",
    "        \n",
    "B11 = pd.get_dummies(xtrain1[cat])\n",
    "from sklearn.preprocessing import StandardScaler\n",
    "ss = StandardScaler()\n",
    "B12= pd.DataFrame(ss.fit_transform(xtrain1[con]),columns=con)\n",
    "\n",
    "xtrain_final = B12.join(B11)"
   ]
  },
  {
   "cell_type": "markdown",
   "id": "18a85a8b",
   "metadata": {},
   "source": [
    "### ytrain"
   ]
  },
  {
   "cell_type": "code",
   "execution_count": 377,
   "id": "ff9a889f",
   "metadata": {},
   "outputs": [],
   "source": [
    "ytrain_final = xtrain[['Loan_Amount_Term']]\n",
    "ytrain_final.index = range(0,ytrain.shape[0])"
   ]
  },
  {
   "cell_type": "code",
   "execution_count": 387,
   "id": "af68771d",
   "metadata": {},
   "outputs": [],
   "source": [
    "from sklearn.linear_model import LinearRegression\n",
    "lm = LinearRegression()\n",
    "model = lm.fit(xtrain_final,ytrain_final)\n",
    "pred = model.predict(xtest_final)"
   ]
  },
  {
   "cell_type": "code",
   "execution_count": 389,
   "id": "45f6c7a8",
   "metadata": {},
   "outputs": [],
   "source": [
    "pred = pred/12"
   ]
  },
  {
   "cell_type": "code",
   "execution_count": 395,
   "id": "7dddcc9e",
   "metadata": {},
   "outputs": [
    {
     "data": {
      "text/plain": [
       "(29, 1)"
      ]
     },
     "execution_count": 395,
     "metadata": {},
     "output_type": "execute_result"
    }
   ],
   "source": [
    "q.shape"
   ]
  },
  {
   "cell_type": "code",
   "execution_count": 391,
   "id": "a58d2515",
   "metadata": {},
   "outputs": [],
   "source": [
    "q = B[(B.Loan_Amount_Term <=20) & (B.Loan_Status == 'Y')][['Loan_Amount_Term']]"
   ]
  },
  {
   "cell_type": "code",
   "execution_count": 396,
   "id": "76201474",
   "metadata": {},
   "outputs": [
    {
     "data": {
      "text/plain": [
       "[<matplotlib.lines.Line2D at 0x296a24520>]"
      ]
     },
     "execution_count": 396,
     "metadata": {},
     "output_type": "execute_result"
    },
    {
     "data": {
      "image/png": "[encoded data removed]",
      "text/plain": [
       "<Figure size 1440x720 with 1 Axes>"
      ]
     },
     "metadata": {
      "needs_background": "light"
     },
     "output_type": "display_data"
    }
   ],
   "source": [
    "r = range(0,29)\n",
    "import matplotlib.pyplot as plt\n",
    "plt.figure(figsize=(20,10))\n",
    "plt.scatter(r,q,s=10)\n",
    "plt.scatter(r,pred,c='k',s=10)\n",
    "plt.plot(r,q,c = 'r')\n",
    "plt.plot(r,pred,c = 'g')"
   ]
  },
  {
   "cell_type": "code",
   "execution_count": null,
   "id": "79dfdc1a",
   "metadata": {},
   "outputs": [],
   "source": []
  }
 ],
 "metadata": {
  "kernelspec": {
   "display_name": "Python 3 (ipykernel)",
   "language": "python",
   "name": "python3"
  },
  "language_info": {
   "codemirror_mode": {
    "name": "ipython",
    "version": 3
   },
   "file_extension": ".py",
   "mimetype": "text/x-python",
   "name": "python",
   "nbconvert_exporter": "python",
   "pygments_lexer": "ipython3",
   "version": "3.9.13"
  }
 },
 "nbformat": 4,
 "nbformat_minor": 5
}
